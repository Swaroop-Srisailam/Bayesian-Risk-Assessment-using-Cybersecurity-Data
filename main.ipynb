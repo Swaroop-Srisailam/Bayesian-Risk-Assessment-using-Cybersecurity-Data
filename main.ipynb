{
 "cells": [
  {
   "cell_type": "code",
   "execution_count": 3,
   "metadata": {},
   "outputs": [],
   "source": [
    "# !pip install pgmpy"
   ]
  },
  {
   "cell_type": "markdown",
   "metadata": {},
   "source": [
    "# Importing Dependencies"
   ]
  },
  {
   "cell_type": "code",
   "execution_count": 30,
   "metadata": {},
   "outputs": [],
   "source": [
    "import pandas as pd\n",
    "from pgmpy.models import BayesianNetwork\n",
    "from pgmpy.factors.discrete import TabularCPD"
   ]
  },
  {
   "cell_type": "markdown",
   "metadata": {},
   "source": [
    "# Reading the Data"
   ]
  },
  {
   "cell_type": "code",
   "execution_count": 31,
   "metadata": {},
   "outputs": [],
   "source": [
    "asset_vulnerability_df = pd.read_csv(r'C:\\Users\\swaroop.srisailam\\Desktop\\Swaroop\\Bayesian Risk Assessment using Cybersecurity Data\\dataset\\asset_vulnerability.csv')\n",
    "attack_vulnerability_df=pd.read_csv(r\"C:\\Users\\swaroop.srisailam\\Desktop\\Swaroop\\Bayesian Risk Assessment using Cybersecurity Data\\dataset\\attack_vulnerability.csv\")\n",
    "threat_actor_df=pd.read_csv(r\"C:\\Users\\swaroop.srisailam\\Desktop\\Swaroop\\Bayesian Risk Assessment using Cybersecurity Data\\dataset\\threat_actor_asset.csv\")\n",
    "prior_attack_df=pd.read_csv(r\"C:\\Users\\swaroop.srisailam\\Desktop\\Swaroop\\Bayesian Risk Assessment using Cybersecurity Data\\dataset\\prior_attack_success.csv\")\n"
   ]
  },
  {
   "cell_type": "code",
   "execution_count": 32,
   "metadata": {},
   "outputs": [
    {
     "name": "stdout",
     "output_type": "stream",
     "text": [
      "(25, 4)\n",
      "(25, 3)\n",
      "(25, 3)\n",
      "(25, 3)\n"
     ]
    }
   ],
   "source": [
    "print(asset_vulnerability_df.shape)\n",
    "print(attack_vulnerability_df.shape)\n",
    "print(threat_actor_df.shape)\n",
    "print(prior_attack_df.shape)"
   ]
  },
  {
   "cell_type": "markdown",
   "metadata": {},
   "source": [
    "# Defining Bayesian Network Structure"
   ]
  },
  {
   "cell_type": "code",
   "execution_count": 33,
   "metadata": {},
   "outputs": [],
   "source": [
    "model = BayesianNetwork([('Threat_Actor', 'Attack_Vector'),\n",
    "                         ('Attack_Vector', 'Vulnerability'),\n",
    "                         ('Vulnerability', 'Asset')])"
   ]
  },
  {
   "cell_type": "code",
   "execution_count": 34,
   "metadata": {},
   "outputs": [
    {
     "name": "stdout",
     "output_type": "stream",
     "text": [
      "BayesianNetwork with 4 nodes and 3 edges\n"
     ]
    }
   ],
   "source": [
    "print(model)"
   ]
  },
  {
   "cell_type": "markdown",
   "metadata": {},
   "source": [
    "# Defining Conditional Probability Distributions\n"
   ]
  },
  {
   "cell_type": "markdown",
   "metadata": {},
   "source": []
  },
  {
   "cell_type": "code",
   "execution_count": 35,
   "metadata": {},
   "outputs": [],
   "source": [
    "threat_actor_counts = threat_actor_df['Threat Actor'].value_counts()"
   ]
  },
  {
   "cell_type": "code",
   "execution_count": 36,
   "metadata": {},
   "outputs": [],
   "source": [
    "total_count = threat_actor_counts.sum()\n",
    "threat_actor_probs = threat_actor_counts / total_count"
   ]
  },
  {
   "cell_type": "code",
   "execution_count": 37,
   "metadata": {},
   "outputs": [
    {
     "data": {
      "text/plain": [
       "Threat Actor\n",
       "External Hacker    0.52\n",
       "Insider            0.48\n",
       "Name: count, dtype: float64"
      ]
     },
     "execution_count": 37,
     "metadata": {},
     "output_type": "execute_result"
    }
   ],
   "source": [
    "threat_actor_probs"
   ]
  },
  {
   "cell_type": "code",
   "execution_count": null,
   "metadata": {},
   "outputs": [],
   "source": []
  },
  {
   "cell_type": "code",
   "execution_count": 39,
   "metadata": {},
   "outputs": [],
   "source": [
    "cpd_threat_actor = TabularCPD(variable='Threat_Actor', \n",
    "                              variable_card=len(threat_actor_probs),  \n",
    "                              values=[[threat_actor_probs.values[0]], \n",
    "                                      [threat_actor_probs.values[1]]])"
   ]
  },
  {
   "cell_type": "code",
   "execution_count": 41,
   "metadata": {},
   "outputs": [
    {
     "name": "stdout",
     "output_type": "stream",
     "text": [
      "+-----------------+------+\n",
      "| Threat_Actor(0) | 0.52 |\n",
      "+-----------------+------+\n",
      "| Threat_Actor(1) | 0.48 |\n",
      "+-----------------+------+\n"
     ]
    }
   ],
   "source": [
    "print(cpd_threat_actor)"
   ]
  },
  {
   "cell_type": "code",
   "execution_count": 42,
   "metadata": {},
   "outputs": [
    {
     "data": {
      "text/html": [
       "<div>\n",
       "<style scoped>\n",
       "    .dataframe tbody tr th:only-of-type {\n",
       "        vertical-align: middle;\n",
       "    }\n",
       "\n",
       "    .dataframe tbody tr th {\n",
       "        vertical-align: top;\n",
       "    }\n",
       "\n",
       "    .dataframe thead th {\n",
       "        text-align: right;\n",
       "    }\n",
       "</style>\n",
       "<table border=\"1\" class=\"dataframe\">\n",
       "  <thead>\n",
       "    <tr style=\"text-align: right;\">\n",
       "      <th></th>\n",
       "      <th>Threat Actor</th>\n",
       "      <th>Attack Vector</th>\n",
       "      <th>Success Rate</th>\n",
       "    </tr>\n",
       "  </thead>\n",
       "  <tbody>\n",
       "    <tr>\n",
       "      <th>0</th>\n",
       "      <td>Insider</td>\n",
       "      <td>Phishing</td>\n",
       "      <td>0.35</td>\n",
       "    </tr>\n",
       "    <tr>\n",
       "      <th>1</th>\n",
       "      <td>External Hacker</td>\n",
       "      <td>SQL Injection</td>\n",
       "      <td>0.60</td>\n",
       "    </tr>\n",
       "    <tr>\n",
       "      <th>2</th>\n",
       "      <td>External Hacker</td>\n",
       "      <td>Remote Code Execution</td>\n",
       "      <td>0.65</td>\n",
       "    </tr>\n",
       "    <tr>\n",
       "      <th>3</th>\n",
       "      <td>Insider</td>\n",
       "      <td>Remote Code Execution</td>\n",
       "      <td>0.50</td>\n",
       "    </tr>\n",
       "    <tr>\n",
       "      <th>4</th>\n",
       "      <td>Insider</td>\n",
       "      <td>SQL Injection</td>\n",
       "      <td>0.40</td>\n",
       "    </tr>\n",
       "    <tr>\n",
       "      <th>5</th>\n",
       "      <td>External Hacker</td>\n",
       "      <td>Phishing</td>\n",
       "      <td>0.55</td>\n",
       "    </tr>\n",
       "    <tr>\n",
       "      <th>6</th>\n",
       "      <td>External Hacker</td>\n",
       "      <td>RCE</td>\n",
       "      <td>0.65</td>\n",
       "    </tr>\n",
       "    <tr>\n",
       "      <th>7</th>\n",
       "      <td>Insider</td>\n",
       "      <td>SQL Injection</td>\n",
       "      <td>0.35</td>\n",
       "    </tr>\n",
       "    <tr>\n",
       "      <th>8</th>\n",
       "      <td>External Hacker</td>\n",
       "      <td>RCE</td>\n",
       "      <td>0.70</td>\n",
       "    </tr>\n",
       "    <tr>\n",
       "      <th>9</th>\n",
       "      <td>Insider</td>\n",
       "      <td>SQL Injection</td>\n",
       "      <td>0.50</td>\n",
       "    </tr>\n",
       "    <tr>\n",
       "      <th>10</th>\n",
       "      <td>Insider</td>\n",
       "      <td>Phishing</td>\n",
       "      <td>0.45</td>\n",
       "    </tr>\n",
       "    <tr>\n",
       "      <th>11</th>\n",
       "      <td>External Hacker</td>\n",
       "      <td>Phishing</td>\n",
       "      <td>0.60</td>\n",
       "    </tr>\n",
       "    <tr>\n",
       "      <th>12</th>\n",
       "      <td>Insider</td>\n",
       "      <td>RCE</td>\n",
       "      <td>0.55</td>\n",
       "    </tr>\n",
       "    <tr>\n",
       "      <th>13</th>\n",
       "      <td>External Hacker</td>\n",
       "      <td>SQL Injection</td>\n",
       "      <td>0.75</td>\n",
       "    </tr>\n",
       "    <tr>\n",
       "      <th>14</th>\n",
       "      <td>Insider</td>\n",
       "      <td>SQL Injection</td>\n",
       "      <td>0.50</td>\n",
       "    </tr>\n",
       "    <tr>\n",
       "      <th>15</th>\n",
       "      <td>External Hacker</td>\n",
       "      <td>RCE</td>\n",
       "      <td>0.80</td>\n",
       "    </tr>\n",
       "    <tr>\n",
       "      <th>16</th>\n",
       "      <td>Insider</td>\n",
       "      <td>Phishing</td>\n",
       "      <td>0.40</td>\n",
       "    </tr>\n",
       "    <tr>\n",
       "      <th>17</th>\n",
       "      <td>External Hacker</td>\n",
       "      <td>SQL Injection</td>\n",
       "      <td>0.85</td>\n",
       "    </tr>\n",
       "    <tr>\n",
       "      <th>18</th>\n",
       "      <td>Insider</td>\n",
       "      <td>RCE</td>\n",
       "      <td>0.60</td>\n",
       "    </tr>\n",
       "    <tr>\n",
       "      <th>19</th>\n",
       "      <td>External Hacker</td>\n",
       "      <td>Phishing</td>\n",
       "      <td>0.65</td>\n",
       "    </tr>\n",
       "    <tr>\n",
       "      <th>20</th>\n",
       "      <td>Insider</td>\n",
       "      <td>SQL Injection</td>\n",
       "      <td>0.45</td>\n",
       "    </tr>\n",
       "    <tr>\n",
       "      <th>21</th>\n",
       "      <td>External Hacker</td>\n",
       "      <td>SQL Injection</td>\n",
       "      <td>0.75</td>\n",
       "    </tr>\n",
       "    <tr>\n",
       "      <th>22</th>\n",
       "      <td>External Hacker</td>\n",
       "      <td>Phishing</td>\n",
       "      <td>0.70</td>\n",
       "    </tr>\n",
       "    <tr>\n",
       "      <th>23</th>\n",
       "      <td>Insider</td>\n",
       "      <td>Phishing</td>\n",
       "      <td>0.50</td>\n",
       "    </tr>\n",
       "    <tr>\n",
       "      <th>24</th>\n",
       "      <td>External Hacker</td>\n",
       "      <td>RCE</td>\n",
       "      <td>0.80</td>\n",
       "    </tr>\n",
       "  </tbody>\n",
       "</table>\n",
       "</div>"
      ],
      "text/plain": [
       "       Threat Actor          Attack Vector  Success Rate\n",
       "0           Insider               Phishing          0.35\n",
       "1   External Hacker          SQL Injection          0.60\n",
       "2   External Hacker  Remote Code Execution          0.65\n",
       "3           Insider  Remote Code Execution          0.50\n",
       "4           Insider          SQL Injection          0.40\n",
       "5   External Hacker               Phishing          0.55\n",
       "6   External Hacker                    RCE          0.65\n",
       "7           Insider          SQL Injection          0.35\n",
       "8   External Hacker                    RCE          0.70\n",
       "9           Insider          SQL Injection          0.50\n",
       "10          Insider               Phishing          0.45\n",
       "11  External Hacker               Phishing          0.60\n",
       "12          Insider                    RCE          0.55\n",
       "13  External Hacker          SQL Injection          0.75\n",
       "14          Insider          SQL Injection          0.50\n",
       "15  External Hacker                    RCE          0.80\n",
       "16          Insider               Phishing          0.40\n",
       "17  External Hacker          SQL Injection          0.85\n",
       "18          Insider                    RCE          0.60\n",
       "19  External Hacker               Phishing          0.65\n",
       "20          Insider          SQL Injection          0.45\n",
       "21  External Hacker          SQL Injection          0.75\n",
       "22  External Hacker               Phishing          0.70\n",
       "23          Insider               Phishing          0.50\n",
       "24  External Hacker                    RCE          0.80"
      ]
     },
     "execution_count": 42,
     "metadata": {},
     "output_type": "execute_result"
    }
   ],
   "source": [
    "prior_attack_df"
   ]
  },
  {
   "cell_type": "code",
   "execution_count": 43,
   "metadata": {},
   "outputs": [],
   "source": [
    "attack_vector_counts = prior_attack_df['Attack Vector'].value_counts()"
   ]
  },
  {
   "cell_type": "code",
   "execution_count": 44,
   "metadata": {},
   "outputs": [
    {
     "data": {
      "text/plain": [
       "Attack Vector\n",
       "SQL Injection            9\n",
       "Phishing                 8\n",
       "RCE                      6\n",
       "Remote Code Execution    2\n",
       "Name: count, dtype: int64"
      ]
     },
     "execution_count": 44,
     "metadata": {},
     "output_type": "execute_result"
    }
   ],
   "source": [
    "attack_vector_counts"
   ]
  },
  {
   "cell_type": "code",
   "execution_count": 47,
   "metadata": {},
   "outputs": [],
   "source": [
    "total_count = attack_vector_counts.sum()\n",
    "attack_vector_probs = attack_vector_counts / total_count"
   ]
  },
  {
   "cell_type": "code",
   "execution_count": 52,
   "metadata": {},
   "outputs": [
    {
     "data": {
      "text/plain": [
       "4"
      ]
     },
     "execution_count": 52,
     "metadata": {},
     "output_type": "execute_result"
    }
   ],
   "source": [
    "len(attack_vector_probs)"
   ]
  },
  {
   "cell_type": "code",
   "execution_count": 116,
   "metadata": {},
   "outputs": [
    {
     "data": {
      "text/plain": [
       "array([[0.5952381 , 0.56190476, 0.56521739, 0.62632696],\n",
       "       [0.4047619 , 0.43809524, 0.43478261, 0.37367304]])"
      ]
     },
     "execution_count": 116,
     "metadata": {},
     "output_type": "execute_result"
    }
   ],
   "source": [
    "attack_vector_probs"
   ]
  },
  {
   "cell_type": "code",
   "execution_count": 73,
   "metadata": {},
   "outputs": [
    {
     "name": "stdout",
     "output_type": "stream",
     "text": [
      "Attack Vector    Phishing     RCE  Remote Code Execution  SQL Injection\n",
      "Threat Actor                                                           \n",
      "External Hacker     0.625  0.7375                   0.65         0.7375\n",
      "Insider             0.425  0.5750                   0.50         0.4400\n"
     ]
    },
    {
     "data": {
      "text/plain": [
       "array([[0.5952381 , 0.4047619 ],\n",
       "       [0.56190476, 0.43809524],\n",
       "       [0.56521739, 0.43478261],\n",
       "       [0.62632696, 0.37367304]])"
      ]
     },
     "execution_count": 73,
     "metadata": {},
     "output_type": "execute_result"
    }
   ],
   "source": [
    "conditional_probs = prior_attack_df.groupby(['Threat Actor', 'Attack Vector'])['Success Rate'].mean().unstack()\n",
    "\n",
    "# Print the resulting conditional probability table\n",
    "print(conditional_probs)\n",
    "conditional_probs_normalized = conditional_probs.div(conditional_probs.sum(axis=0), axis=1)\n",
    "\n",
    "# Convert to a list for TabularCPD\n",
    "attack_vector_probs = conditional_probs_normalized.values\n",
    "attack_vector_probs.T"
   ]
  },
  {
   "cell_type": "code",
   "execution_count": 123,
   "metadata": {},
   "outputs": [
    {
     "data": {
      "text/html": [
       "<div>\n",
       "<style scoped>\n",
       "    .dataframe tbody tr th:only-of-type {\n",
       "        vertical-align: middle;\n",
       "    }\n",
       "\n",
       "    .dataframe tbody tr th {\n",
       "        vertical-align: top;\n",
       "    }\n",
       "\n",
       "    .dataframe thead th {\n",
       "        text-align: right;\n",
       "    }\n",
       "</style>\n",
       "<table border=\"1\" class=\"dataframe\">\n",
       "  <thead>\n",
       "    <tr style=\"text-align: right;\">\n",
       "      <th>Attack Vector</th>\n",
       "      <th>Phishing</th>\n",
       "      <th>RCE</th>\n",
       "      <th>Remote Code Execution</th>\n",
       "      <th>SQL Injection</th>\n",
       "    </tr>\n",
       "    <tr>\n",
       "      <th>Threat Actor</th>\n",
       "      <th></th>\n",
       "      <th></th>\n",
       "      <th></th>\n",
       "      <th></th>\n",
       "    </tr>\n",
       "  </thead>\n",
       "  <tbody>\n",
       "    <tr>\n",
       "      <th>External Hacker</th>\n",
       "      <td>0.625</td>\n",
       "      <td>0.7375</td>\n",
       "      <td>0.65</td>\n",
       "      <td>0.7375</td>\n",
       "    </tr>\n",
       "    <tr>\n",
       "      <th>Insider</th>\n",
       "      <td>0.425</td>\n",
       "      <td>0.5750</td>\n",
       "      <td>0.50</td>\n",
       "      <td>0.4400</td>\n",
       "    </tr>\n",
       "  </tbody>\n",
       "</table>\n",
       "</div>"
      ],
      "text/plain": [
       "Attack Vector    Phishing     RCE  Remote Code Execution  SQL Injection\n",
       "Threat Actor                                                           \n",
       "External Hacker     0.625  0.7375                   0.65         0.7375\n",
       "Insider             0.425  0.5750                   0.50         0.4400"
      ]
     },
     "execution_count": 123,
     "metadata": {},
     "output_type": "execute_result"
    }
   ],
   "source": [
    "conditional_probs"
   ]
  },
  {
   "cell_type": "code",
   "execution_count": 87,
   "metadata": {},
   "outputs": [
    {
     "name": "stdout",
     "output_type": "stream",
     "text": [
      "Conditional Probabilities:\n",
      "Attack Vector    Phishing       RCE  Remote Code Execution  SQL Injection\n",
      "Threat Actor                                                             \n",
      "External Hacker  0.227273  0.268182               0.236364       0.268182\n",
      "Insider          0.219072  0.296392               0.257732       0.226804\n"
     ]
    }
   ],
   "source": [
    "conditional_probs = prior_attack_df.groupby(['Threat Actor', 'Attack Vector'])['Success Rate'].mean().unstack()\n",
    "\n",
    "\n",
    "total_success = conditional_probs.sum(axis=1)\n",
    "\n",
    "\n",
    "conditional_probs_normalized = conditional_probs.div(total_success, axis=0)\n",
    "\n",
    "# Display the results\n",
    "print(\"Conditional Probabilities:\")\n",
    "print(conditional_probs_normalized)"
   ]
  },
  {
   "cell_type": "code",
   "execution_count": 115,
   "metadata": {},
   "outputs": [
    {
     "data": {
      "text/plain": [
       "Threat Actor\n",
       "External Hacker    2.75\n",
       "Insider            1.94\n",
       "dtype: float64"
      ]
     },
     "execution_count": 115,
     "metadata": {},
     "output_type": "execute_result"
    }
   ],
   "source": [
    "total_success"
   ]
  },
  {
   "cell_type": "code",
   "execution_count": 96,
   "metadata": {},
   "outputs": [
    {
     "data": {
      "text/html": [
       "<div>\n",
       "<style scoped>\n",
       "    .dataframe tbody tr th:only-of-type {\n",
       "        vertical-align: middle;\n",
       "    }\n",
       "\n",
       "    .dataframe tbody tr th {\n",
       "        vertical-align: top;\n",
       "    }\n",
       "\n",
       "    .dataframe thead th {\n",
       "        text-align: right;\n",
       "    }\n",
       "</style>\n",
       "<table border=\"1\" class=\"dataframe\">\n",
       "  <thead>\n",
       "    <tr style=\"text-align: right;\">\n",
       "      <th>Threat Actor</th>\n",
       "      <th>External Hacker</th>\n",
       "      <th>Insider</th>\n",
       "    </tr>\n",
       "    <tr>\n",
       "      <th>Attack Vector</th>\n",
       "      <th></th>\n",
       "      <th></th>\n",
       "    </tr>\n",
       "  </thead>\n",
       "  <tbody>\n",
       "    <tr>\n",
       "      <th>Phishing</th>\n",
       "      <td>0.227273</td>\n",
       "      <td>0.219072</td>\n",
       "    </tr>\n",
       "    <tr>\n",
       "      <th>RCE</th>\n",
       "      <td>0.268182</td>\n",
       "      <td>0.296392</td>\n",
       "    </tr>\n",
       "    <tr>\n",
       "      <th>Remote Code Execution</th>\n",
       "      <td>0.236364</td>\n",
       "      <td>0.257732</td>\n",
       "    </tr>\n",
       "    <tr>\n",
       "      <th>SQL Injection</th>\n",
       "      <td>0.268182</td>\n",
       "      <td>0.226804</td>\n",
       "    </tr>\n",
       "  </tbody>\n",
       "</table>\n",
       "</div>"
      ],
      "text/plain": [
       "Threat Actor           External Hacker   Insider\n",
       "Attack Vector                                   \n",
       "Phishing                      0.227273  0.219072\n",
       "RCE                           0.268182  0.296392\n",
       "Remote Code Execution         0.236364  0.257732\n",
       "SQL Injection                 0.268182  0.226804"
      ]
     },
     "execution_count": 96,
     "metadata": {},
     "output_type": "execute_result"
    }
   ],
   "source": [
    "conditional_probs_normalized.T"
   ]
  },
  {
   "cell_type": "code",
   "execution_count": 107,
   "metadata": {},
   "outputs": [
    {
     "data": {
      "text/plain": [
       "array([[0.22727273, 0.21907216],\n",
       "       [0.26818182, 0.29639175],\n",
       "       [0.23636364, 0.25773196],\n",
       "       [0.26818182, 0.22680412]])"
      ]
     },
     "execution_count": 107,
     "metadata": {},
     "output_type": "execute_result"
    }
   ],
   "source": [
    "conditional_probs_matrix = conditional_probs_normalized.values\n",
    "conditional_probs_matrix.T"
   ]
  },
  {
   "cell_type": "code",
   "execution_count": 112,
   "metadata": {},
   "outputs": [
    {
     "data": {
      "text/plain": [
       "4"
      ]
     },
     "execution_count": 112,
     "metadata": {},
     "output_type": "execute_result"
    }
   ],
   "source": [
    "len(conditional_probs_normalized.columns)"
   ]
  },
  {
   "cell_type": "code",
   "execution_count": 113,
   "metadata": {},
   "outputs": [],
   "source": [
    "cpd_attack_vector = TabularCPD(variable='Attack_Vector', \n",
    "                              variable_card=len(conditional_probs_normalized.columns),  \n",
    "                              values=[[0.22727273, 0.21907216],\n",
    "                                      [0.26818182, 0.29639175],\n",
    "                                      [0.23636364, 0.25773196],\n",
    "                                      [0.26818182, 0.22680412]],\n",
    "                                      \n",
    "                              evidence=[\"Threat_Actor\"],\n",
    "                              evidence_card=[2])"
   ]
  },
  {
   "cell_type": "code",
   "execution_count": 114,
   "metadata": {},
   "outputs": [
    {
     "name": "stdout",
     "output_type": "stream",
     "text": [
      "+------------------+-----------------+-----------------+\n",
      "| Threat_Actor     | Threat_Actor(0) | Threat_Actor(1) |\n",
      "+------------------+-----------------+-----------------+\n",
      "| Attack_Vector(0) | 0.22727273      | 0.21907216      |\n",
      "+------------------+-----------------+-----------------+\n",
      "| Attack_Vector(1) | 0.26818182      | 0.29639175      |\n",
      "+------------------+-----------------+-----------------+\n",
      "| Attack_Vector(2) | 0.23636364      | 0.25773196      |\n",
      "+------------------+-----------------+-----------------+\n",
      "| Attack_Vector(3) | 0.26818182      | 0.22680412      |\n",
      "+------------------+-----------------+-----------------+\n"
     ]
    }
   ],
   "source": [
    "print(cpd_attack_vector)"
   ]
  },
  {
   "cell_type": "code",
   "execution_count": null,
   "metadata": {},
   "outputs": [],
   "source": []
  }
 ],
 "metadata": {
  "kernelspec": {
   "display_name": "Python 3",
   "language": "python",
   "name": "python3"
  },
  "language_info": {
   "codemirror_mode": {
    "name": "ipython",
    "version": 3
   },
   "file_extension": ".py",
   "mimetype": "text/x-python",
   "name": "python",
   "nbconvert_exporter": "python",
   "pygments_lexer": "ipython3",
   "version": "3.11.9"
  }
 },
 "nbformat": 4,
 "nbformat_minor": 2
}
