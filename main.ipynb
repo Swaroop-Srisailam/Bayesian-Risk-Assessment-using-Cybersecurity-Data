{
 "cells": [
  {
   "cell_type": "code",
   "execution_count": 1,
   "metadata": {},
   "outputs": [],
   "source": [
    "import pandas as pd"
   ]
  },
  {
   "cell_type": "code",
   "execution_count": 2,
   "metadata": {},
   "outputs": [],
   "source": [
    "asset_vulnerability_df = pd.read_csv(r'C:\\Users\\swaroop.srisailam\\Desktop\\Swaroop\\Bayesian Risk Assessment using Cybersecurity Data\\dataset\\asset_vulnerability.csv')"
   ]
  },
  {
   "cell_type": "code",
   "execution_count": 3,
   "metadata": {},
   "outputs": [
    {
     "data": {
      "text/html": [
       "<div>\n",
       "<style scoped>\n",
       "    .dataframe tbody tr th:only-of-type {\n",
       "        vertical-align: middle;\n",
       "    }\n",
       "\n",
       "    .dataframe tbody tr th {\n",
       "        vertical-align: top;\n",
       "    }\n",
       "\n",
       "    .dataframe thead th {\n",
       "        text-align: right;\n",
       "    }\n",
       "</style>\n",
       "<table border=\"1\" class=\"dataframe\">\n",
       "  <thead>\n",
       "    <tr style=\"text-align: right;\">\n",
       "      <th></th>\n",
       "      <th>Asset</th>\n",
       "      <th>Vulnerability</th>\n",
       "      <th>CVSS Score</th>\n",
       "      <th>Exploit Probability</th>\n",
       "    </tr>\n",
       "  </thead>\n",
       "  <tbody>\n",
       "    <tr>\n",
       "      <th>0</th>\n",
       "      <td>Server-01</td>\n",
       "      <td>CVE-2023-12345</td>\n",
       "      <td>9.0</td>\n",
       "      <td>0.75</td>\n",
       "    </tr>\n",
       "    <tr>\n",
       "      <th>1</th>\n",
       "      <td>Workstation-01</td>\n",
       "      <td>CVE-2023-54321</td>\n",
       "      <td>7.5</td>\n",
       "      <td>0.55</td>\n",
       "    </tr>\n",
       "    <tr>\n",
       "      <th>2</th>\n",
       "      <td>Database-01</td>\n",
       "      <td>CVE-2023-67890</td>\n",
       "      <td>8.5</td>\n",
       "      <td>0.70</td>\n",
       "    </tr>\n",
       "    <tr>\n",
       "      <th>3</th>\n",
       "      <td>WebApp-01</td>\n",
       "      <td>CVE-2023-09876</td>\n",
       "      <td>9.1</td>\n",
       "      <td>0.68</td>\n",
       "    </tr>\n",
       "    <tr>\n",
       "      <th>4</th>\n",
       "      <td>IoTDevice-01</td>\n",
       "      <td>CVE-2023-67891</td>\n",
       "      <td>6.8</td>\n",
       "      <td>0.45</td>\n",
       "    </tr>\n",
       "  </tbody>\n",
       "</table>\n",
       "</div>"
      ],
      "text/plain": [
       "            Asset   Vulnerability  CVSS Score  Exploit Probability\n",
       "0       Server-01  CVE-2023-12345         9.0                 0.75\n",
       "1  Workstation-01  CVE-2023-54321         7.5                 0.55\n",
       "2     Database-01  CVE-2023-67890         8.5                 0.70\n",
       "3       WebApp-01  CVE-2023-09876         9.1                 0.68\n",
       "4    IoTDevice-01  CVE-2023-67891         6.8                 0.45"
      ]
     },
     "execution_count": 3,
     "metadata": {},
     "output_type": "execute_result"
    }
   ],
   "source": [
    "asset_vulnerability_df"
   ]
  }
 ],
 "metadata": {
  "kernelspec": {
   "display_name": "Python 3",
   "language": "python",
   "name": "python3"
  },
  "language_info": {
   "codemirror_mode": {
    "name": "ipython",
    "version": 3
   },
   "file_extension": ".py",
   "mimetype": "text/x-python",
   "name": "python",
   "nbconvert_exporter": "python",
   "pygments_lexer": "ipython3",
   "version": "3.11.9"
  }
 },
 "nbformat": 4,
 "nbformat_minor": 2
}
